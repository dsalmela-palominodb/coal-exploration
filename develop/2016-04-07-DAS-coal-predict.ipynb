{
 "cells": [
  {
   "cell_type": "markdown",
   "metadata": {},
   "source": [
    "# Make a prediction about the coal production"
   ]
  },
  {
   "cell_type": "code",
   "execution_count": 160,
   "metadata": {
    "collapsed": false
   },
   "outputs": [],
   "source": [
    "%matplotlib inline\n",
    "import matplotlib.pyplot as plt\n",
    "import pandas as pd\n",
    "import numpy as np\n",
    "import seaborn as sns\n",
    "sns.set()\n"
   ]
  },
  {
   "cell_type": "code",
   "execution_count": 161,
   "metadata": {
    "collapsed": false
   },
   "outputs": [
    {
     "data": {
      "text/html": [
       "<div>\n",
       "<table border=\"1\" class=\"dataframe\">\n",
       "  <thead>\n",
       "    <tr style=\"text-align: right;\">\n",
       "      <th></th>\n",
       "      <th>Year</th>\n",
       "      <th>Mine_Name</th>\n",
       "      <th>Mine_State</th>\n",
       "      <th>Mine_County</th>\n",
       "      <th>Mine_Status</th>\n",
       "      <th>Mine_Type</th>\n",
       "      <th>Company_Type</th>\n",
       "      <th>Operation_Type</th>\n",
       "      <th>Operating_Company</th>\n",
       "      <th>Operating_Company_Address</th>\n",
       "      <th>Union_Code</th>\n",
       "      <th>Coal_Supply_Region</th>\n",
       "      <th>Production_(short_tons)</th>\n",
       "      <th>Average_Employees</th>\n",
       "      <th>Labor_Hours</th>\n",
       "      <th>log_production</th>\n",
       "    </tr>\n",
       "    <tr>\n",
       "      <th>MSHA ID</th>\n",
       "      <th></th>\n",
       "      <th></th>\n",
       "      <th></th>\n",
       "      <th></th>\n",
       "      <th></th>\n",
       "      <th></th>\n",
       "      <th></th>\n",
       "      <th></th>\n",
       "      <th></th>\n",
       "      <th></th>\n",
       "      <th></th>\n",
       "      <th></th>\n",
       "      <th></th>\n",
       "      <th></th>\n",
       "      <th></th>\n",
       "      <th></th>\n",
       "    </tr>\n",
       "  </thead>\n",
       "  <tbody>\n",
       "    <tr>\n",
       "      <th>103381</th>\n",
       "      <td>2013</td>\n",
       "      <td>Tacoa Highwall Miner</td>\n",
       "      <td>Alabama</td>\n",
       "      <td>Bibb</td>\n",
       "      <td>Active, men working, not producing</td>\n",
       "      <td>Surface</td>\n",
       "      <td>Independent Producer Operator</td>\n",
       "      <td>Mine only</td>\n",
       "      <td>Jesse Creek Mining, Llc</td>\n",
       "      <td>1615 Kent Dairy Rd, Alabaster, AL 35007</td>\n",
       "      <td></td>\n",
       "      <td>Appalachia Southern</td>\n",
       "      <td>56004</td>\n",
       "      <td>10</td>\n",
       "      <td>22392</td>\n",
       "      <td>10.933178</td>\n",
       "    </tr>\n",
       "    <tr>\n",
       "      <th>103404</th>\n",
       "      <td>2013</td>\n",
       "      <td>Reid School Mine</td>\n",
       "      <td>Alabama</td>\n",
       "      <td>Blount</td>\n",
       "      <td>Permanently abandoned</td>\n",
       "      <td>Surface</td>\n",
       "      <td>Independent Producer Operator</td>\n",
       "      <td>Mine only</td>\n",
       "      <td>Taft Coal Sales &amp; Associates,</td>\n",
       "      <td>3000 Riverchase Galleria Ste 1, Birmingham, AL...</td>\n",
       "      <td>UNIT</td>\n",
       "      <td>Appalachia Southern</td>\n",
       "      <td>28807</td>\n",
       "      <td>18</td>\n",
       "      <td>28447</td>\n",
       "      <td>10.268374</td>\n",
       "    </tr>\n",
       "    <tr>\n",
       "      <th>100759</th>\n",
       "      <td>2013</td>\n",
       "      <td>North River #1 Underground Min</td>\n",
       "      <td>Alabama</td>\n",
       "      <td>Fayette</td>\n",
       "      <td>Active, men working, not producing</td>\n",
       "      <td>Underground</td>\n",
       "      <td>Independent Producer Operator</td>\n",
       "      <td>Mine and Preparation Plant</td>\n",
       "      <td>Jim Walter Resources Inc</td>\n",
       "      <td>3114 County Rd 63 S, Berry, AL 35546</td>\n",
       "      <td>UNIT</td>\n",
       "      <td>Appalachia Southern</td>\n",
       "      <td>1440115</td>\n",
       "      <td>183</td>\n",
       "      <td>474784</td>\n",
       "      <td>14.180234</td>\n",
       "    </tr>\n",
       "    <tr>\n",
       "      <th>103246</th>\n",
       "      <td>2013</td>\n",
       "      <td>Bear Creek</td>\n",
       "      <td>Alabama</td>\n",
       "      <td>Franklin</td>\n",
       "      <td>Active</td>\n",
       "      <td>Surface</td>\n",
       "      <td>Independent Producer Operator</td>\n",
       "      <td>Mine only</td>\n",
       "      <td>Birmingham Coal &amp; Coke Co., In</td>\n",
       "      <td>912 Edenton Street, Birmingham, AL 35242</td>\n",
       "      <td></td>\n",
       "      <td>Appalachia Southern</td>\n",
       "      <td>87587</td>\n",
       "      <td>13</td>\n",
       "      <td>29193</td>\n",
       "      <td>11.380388</td>\n",
       "    </tr>\n",
       "    <tr>\n",
       "      <th>103451</th>\n",
       "      <td>2013</td>\n",
       "      <td>Knight Mine</td>\n",
       "      <td>Alabama</td>\n",
       "      <td>Franklin</td>\n",
       "      <td>Active</td>\n",
       "      <td>Surface</td>\n",
       "      <td>Independent Producer Operator</td>\n",
       "      <td>Mine only</td>\n",
       "      <td>Birmingham Coal &amp; Coke Co., In</td>\n",
       "      <td>P.O. Box 354, Lynn, AL 35242</td>\n",
       "      <td></td>\n",
       "      <td>Appalachia Southern</td>\n",
       "      <td>147499</td>\n",
       "      <td>27</td>\n",
       "      <td>46393</td>\n",
       "      <td>11.901577</td>\n",
       "    </tr>\n",
       "  </tbody>\n",
       "</table>\n",
       "</div>"
      ],
      "text/plain": [
       "         Year                       Mine_Name Mine_State Mine_County  \\\n",
       "MSHA ID                                                                \n",
       "103381   2013            Tacoa Highwall Miner    Alabama        Bibb   \n",
       "103404   2013                Reid School Mine    Alabama      Blount   \n",
       "100759   2013  North River #1 Underground Min    Alabama     Fayette   \n",
       "103246   2013                      Bear Creek    Alabama    Franklin   \n",
       "103451   2013                     Knight Mine    Alabama    Franklin   \n",
       "\n",
       "                                Mine_Status    Mine_Type  \\\n",
       "MSHA ID                                                    \n",
       "103381   Active, men working, not producing      Surface   \n",
       "103404                Permanently abandoned      Surface   \n",
       "100759   Active, men working, not producing  Underground   \n",
       "103246                               Active      Surface   \n",
       "103451                               Active      Surface   \n",
       "\n",
       "                          Company_Type              Operation_Type  \\\n",
       "MSHA ID                                                              \n",
       "103381   Independent Producer Operator                   Mine only   \n",
       "103404   Independent Producer Operator                   Mine only   \n",
       "100759   Independent Producer Operator  Mine and Preparation Plant   \n",
       "103246   Independent Producer Operator                   Mine only   \n",
       "103451   Independent Producer Operator                   Mine only   \n",
       "\n",
       "                      Operating_Company  \\\n",
       "MSHA ID                                   \n",
       "103381          Jesse Creek Mining, Llc   \n",
       "103404    Taft Coal Sales & Associates,   \n",
       "100759         Jim Walter Resources Inc   \n",
       "103246   Birmingham Coal & Coke Co., In   \n",
       "103451   Birmingham Coal & Coke Co., In   \n",
       "\n",
       "                                 Operating_Company_Address Union_Code  \\\n",
       "MSHA ID                                                                 \n",
       "103381             1615 Kent Dairy Rd, Alabaster, AL 35007              \n",
       "103404   3000 Riverchase Galleria Ste 1, Birmingham, AL...       UNIT   \n",
       "100759                3114 County Rd 63 S, Berry, AL 35546       UNIT   \n",
       "103246            912 Edenton Street, Birmingham, AL 35242              \n",
       "103451                        P.O. Box 354, Lynn, AL 35242              \n",
       "\n",
       "          Coal_Supply_Region  Production_(short_tons)  Average_Employees  \\\n",
       "MSHA ID                                                                    \n",
       "103381   Appalachia Southern                    56004                 10   \n",
       "103404   Appalachia Southern                    28807                 18   \n",
       "100759   Appalachia Southern                  1440115                183   \n",
       "103246   Appalachia Southern                    87587                 13   \n",
       "103451   Appalachia Southern                   147499                 27   \n",
       "\n",
       "         Labor_Hours  log_production  \n",
       "MSHA ID                               \n",
       "103381         22392       10.933178  \n",
       "103404         28447       10.268374  \n",
       "100759        474784       14.180234  \n",
       "103246         29193       11.380388  \n",
       "103451         46393       11.901577  "
      ]
     },
     "execution_count": 161,
     "metadata": {},
     "output_type": "execute_result"
    }
   ],
   "source": [
    "df = pd.read_csv(\"../data/cleaned_coalpublic2013.csv\", index_col=\"MSHA ID\")\n",
    "df.head()"
   ]
  },
  {
   "cell_type": "code",
   "execution_count": 162,
   "metadata": {
    "collapsed": false
   },
   "outputs": [
    {
     "data": {
      "text/plain": [
       "1061"
      ]
     },
     "execution_count": 162,
     "metadata": {},
     "output_type": "execute_result"
    }
   ],
   "source": [
    "len(df)"
   ]
  },
  {
   "cell_type": "code",
   "execution_count": 163,
   "metadata": {
    "collapsed": false
   },
   "outputs": [
    {
     "name": "stdout",
     "output_type": "stream",
     "text": [
      "Year\n",
      "Mine_Name\n",
      "Mine_State\n",
      "Mine_County\n",
      "Mine_Status\n",
      "Mine_Type\n",
      "Company_Type\n",
      "Operation_Type\n",
      "Operating_Company\n",
      "Operating_Company_Address\n",
      "Union_Code\n",
      "Coal_Supply_Region\n",
      "Production_(short_tons)\n",
      "Average_Employees\n",
      "Labor_Hours\n",
      "log_production\n"
     ]
    }
   ],
   "source": [
    "for c in df.columns:\n",
    "    print c"
   ]
  },
  {
   "cell_type": "code",
   "execution_count": 164,
   "metadata": {
    "collapsed": false
   },
   "outputs": [
    {
     "data": {
      "text/plain": [
       "<matplotlib.axes._subplots.AxesSubplot at 0x117bc3c50>"
      ]
     },
     "execution_count": 164,
     "metadata": {},
     "output_type": "execute_result"
    },
    {
     "data": {
      "image/png": "[encoded data removed]",
      "text/plain": [
       "<matplotlib.figure.Figure at 0x117bc3a50>"
      ]
     },
     "metadata": {},
     "output_type": "display_data"
    }
   ],
   "source": [
    "# production of coal follows a log normal distribution... \n",
    "df[\"log_production\"].hist()"
   ]
  },
  {
   "cell_type": "code",
   "execution_count": 165,
   "metadata": {
    "collapsed": false
   },
   "outputs": [
    {
     "data": {
      "text/plain": [
       "array(['Active, men working, not producing', 'Permanently abandoned',\n",
       "       'Active', 'Temporarily closed', 'New, under construction'], dtype=object)"
      ]
     },
     "execution_count": 165,
     "metadata": {},
     "output_type": "execute_result"
    }
   ],
   "source": [
    "df.Mine_Status.unique()"
   ]
  },
  {
   "cell_type": "code",
   "execution_count": 166,
   "metadata": {
    "collapsed": false
   },
   "outputs": [
    {
     "data": {
      "text/html": [
       "<div>\n",
       "<table border=\"1\" class=\"dataframe\">\n",
       "  <thead>\n",
       "    <tr style=\"text-align: right;\">\n",
       "      <th></th>\n",
       "      <th>log_production</th>\n",
       "    </tr>\n",
       "    <tr>\n",
       "      <th>Mine_Status</th>\n",
       "      <th></th>\n",
       "    </tr>\n",
       "  </thead>\n",
       "  <tbody>\n",
       "    <tr>\n",
       "      <th>Active</th>\n",
       "      <td>11.977453</td>\n",
       "    </tr>\n",
       "    <tr>\n",
       "      <th>Active, men working, not producing</th>\n",
       "      <td>10.499962</td>\n",
       "    </tr>\n",
       "    <tr>\n",
       "      <th>New, under construction</th>\n",
       "      <td>3.951244</td>\n",
       "    </tr>\n",
       "    <tr>\n",
       "      <th>Permanently abandoned</th>\n",
       "      <td>9.896046</td>\n",
       "    </tr>\n",
       "    <tr>\n",
       "      <th>Temporarily closed</th>\n",
       "      <td>9.162933</td>\n",
       "    </tr>\n",
       "  </tbody>\n",
       "</table>\n",
       "</div>"
      ],
      "text/plain": [
       "                                    log_production\n",
       "Mine_Status                                       \n",
       "Active                                   11.977453\n",
       "Active, men working, not producing       10.499962\n",
       "New, under construction                   3.951244\n",
       "Permanently abandoned                     9.896046\n",
       "Temporarily closed                        9.162933"
      ]
     },
     "execution_count": 166,
     "metadata": {},
     "output_type": "execute_result"
    }
   ],
   "source": [
    "df[['Mine_Status', 'log_production']].groupby('Mine_Status').mean()"
   ]
  },
  {
   "cell_type": "markdown",
   "metadata": {},
   "source": [
    "# Predict Production of Coal Mines"
   ]
  },
  {
   "cell_type": "code",
   "execution_count": 167,
   "metadata": {
    "collapsed": false
   },
   "outputs": [
    {
     "data": {
      "text/plain": [
       "array([' ', 'UNIT', 'United Mine Workers of America', 'INTE',\n",
       "       'International Union of Operation Engineers',\n",
       "       'Scotia Employees Association', 'Western Energy Workers'], dtype=object)"
      ]
     },
     "execution_count": 167,
     "metadata": {},
     "output_type": "execute_result"
    }
   ],
   "source": [
    "df.Union_Code.unique()"
   ]
  },
  {
   "cell_type": "code",
   "execution_count": 168,
   "metadata": {
    "collapsed": true
   },
   "outputs": [],
   "source": [
    "features = [\n",
    "            'Average_Employees',\n",
    "            'Labor_Hours',\n",
    "            ]\n",
    "categoricals =  [\n",
    "            'Mine_State',\n",
    "            'Mine_County',\n",
    "            'Mine_Status',\n",
    "            'Mine_Type',\n",
    "            'Company_Type',\n",
    "            'Operation_Type',\n",
    "            'Union_Code',\n",
    "            'Coal_Supply_Region',\n",
    "            ]\n",
    "target = 'log_production'\n",
    "\n"
   ]
  },
  {
   "cell_type": "code",
   "execution_count": 169,
   "metadata": {
    "collapsed": false
   },
   "outputs": [
    {
     "data": {
      "text/plain": [
       "<function matplotlib.pyplot.tight_layout>"
      ]
     },
     "execution_count": 169,
     "metadata": {},
     "output_type": "execute_result"
    },
    {
     "data": {
      "image/png": "[encoded data removed]",
      "text/plain": [
       "<matplotlib.figure.Figure at 0x11f7f9850>"
      ]
     },
     "metadata": {},
     "output_type": "display_data"
    }
   ],
   "source": [
    "# compare minestatus to log_production\n",
    "fig=plt.subplots(figsize=(14,8))\n",
    "sns.set_context('poster')\n",
    "sns.violinplot(y='Mine_Status', x='log_production', data=df, split=True, inner='stick',)\n",
    "plt.tight_layout\n"
   ]
  },
  {
   "cell_type": "code",
   "execution_count": 170,
   "metadata": {
    "collapsed": false
   },
   "outputs": [
    {
     "data": {
      "text/plain": [
       "<function matplotlib.pyplot.tight_layout>"
      ]
     },
     "execution_count": 170,
     "metadata": {},
     "output_type": "execute_result"
    },
    {
     "data": {
      "image/png": "[encoded data removed]",
      "text/plain": [
       "<matplotlib.figure.Figure at 0x11816d810>"
      ]
     },
     "metadata": {},
     "output_type": "display_data"
    }
   ],
   "source": [
    "# compare company_type to log_production\n",
    "fig=plt.subplots(figsize=(14,8))\n",
    "sns.set_context('poster')\n",
    "sns.violinplot(y='Company_Type', x='log_production', data=df, split=True, inner='stick',)\n",
    "plt.tight_layout\n"
   ]
  },
  {
   "cell_type": "code",
   "execution_count": 171,
   "metadata": {
    "collapsed": false
   },
   "outputs": [
    {
     "data": {
      "text/html": [
       "<div>\n",
       "<table border=\"1\" class=\"dataframe\">\n",
       "  <thead>\n",
       "    <tr style=\"text-align: right;\">\n",
       "      <th></th>\n",
       "      <th>Contractor</th>\n",
       "      <th>Independent Producer Operator</th>\n",
       "      <th>Operating Subsidiary</th>\n",
       "    </tr>\n",
       "    <tr>\n",
       "      <th>MSHA ID</th>\n",
       "      <th></th>\n",
       "      <th></th>\n",
       "      <th></th>\n",
       "    </tr>\n",
       "  </thead>\n",
       "  <tbody>\n",
       "    <tr>\n",
       "      <th>4608906</th>\n",
       "      <td>0.0</td>\n",
       "      <td>1.0</td>\n",
       "      <td>0.0</td>\n",
       "    </tr>\n",
       "    <tr>\n",
       "      <th>4607545</th>\n",
       "      <td>0.0</td>\n",
       "      <td>0.0</td>\n",
       "      <td>1.0</td>\n",
       "    </tr>\n",
       "    <tr>\n",
       "      <th>4609468</th>\n",
       "      <td>0.0</td>\n",
       "      <td>1.0</td>\n",
       "      <td>0.0</td>\n",
       "    </tr>\n",
       "    <tr>\n",
       "      <th>4608194</th>\n",
       "      <td>0.0</td>\n",
       "      <td>1.0</td>\n",
       "      <td>0.0</td>\n",
       "    </tr>\n",
       "    <tr>\n",
       "      <th>3304414</th>\n",
       "      <td>0.0</td>\n",
       "      <td>1.0</td>\n",
       "      <td>0.0</td>\n",
       "    </tr>\n",
       "  </tbody>\n",
       "</table>\n",
       "</div>"
      ],
      "text/plain": [
       "         Contractor  Independent Producer Operator  Operating Subsidiary\n",
       "MSHA ID                                                                 \n",
       "4608906         0.0                            1.0                   0.0\n",
       "4607545         0.0                            0.0                   1.0\n",
       "4609468         0.0                            1.0                   0.0\n",
       "4608194         0.0                            1.0                   0.0\n",
       "3304414         0.0                            1.0                   0.0"
      ]
     },
     "execution_count": 171,
     "metadata": {},
     "output_type": "execute_result"
    }
   ],
   "source": [
    "pd.get_dummies(df['Company_Type']).sample(50).head()"
   ]
  },
  {
   "cell_type": "code",
   "execution_count": 172,
   "metadata": {
    "collapsed": true
   },
   "outputs": [],
   "source": [
    "df_saved = df"
   ]
  },
  {
   "cell_type": "code",
   "execution_count": 177,
   "metadata": {
    "collapsed": false
   },
   "outputs": [],
   "source": [
    "df = df_saved"
   ]
  },
  {
   "cell_type": "code",
   "execution_count": 179,
   "metadata": {
    "collapsed": false
   },
   "outputs": [
    {
     "data": {
      "text/plain": [
       "'Western'"
      ]
     },
     "execution_count": 179,
     "metadata": {},
     "output_type": "execute_result"
    }
   ],
   "source": [
    "sorted(df[c].unique())[-1]"
   ]
  },
  {
   "cell_type": "code",
   "execution_count": 178,
   "metadata": {
    "collapsed": false
   },
   "outputs": [
    {
     "name": "stdout",
     "output_type": "stream",
     "text": [
      "['Mine_State', 'Mine_County', 'Mine_Status', 'Mine_Type', 'Company_Type', 'Operation_Type', 'Union_Code', 'Coal_Supply_Region']\n",
      "Mine_State 29\n",
      "DROPPING Mine_State_Wyoming\n",
      "Mine_County 164\n",
      "DROPPING Mine_County_Wyoming\n",
      "Mine_Status 5\n",
      "DROPPING Mine_Status_Temporarily closed\n",
      "Mine_Type 3\n",
      "DROPPING Mine_Type_Underground\n",
      "Company_Type 3\n",
      "DROPPING Company_Type_Operating Subsidiary\n",
      "Operation_Type 2\n",
      "DROPPING Operation_Type_Mine only\n",
      "Union_Code 7\n",
      "DROPPING Union_Code_Western Energy Workers\n",
      "Coal_Supply_Region 8\n",
      "DROPPING Coal_Supply_Region_Western\n"
     ]
    }
   ],
   "source": [
    "print categoricals\n",
    "dummy_categoricals=[]\n",
    "dummy_no_drop=[]\n",
    "\n",
    "\n",
    "for c in categoricals:\n",
    "    print c, len(df[c].unique())\n",
    "    drop_var = sorted(df[c].unique())[-1]\n",
    "    #print \"DROPVAR\", drop_var\n",
    "    temp_df = pd.get_dummies(df[c],prefix=c)\n",
    "    \n",
    "    #print \"temp_DF\", temp_df\n",
    "    df = pd.concat([df, temp_df], axis=1)\n",
    "    print \"DROPPING\",'_'.join([c, str(drop_var)])\n",
    "    temp_df.drop('_'.join([c, str(drop_var)]), axis=1, inplace=True)\n",
    "    dummy_categoricals += temp_df.columns.tolist()\n",
    "    #print \"----\",dummy_categoricals"
   ]
  },
  {
   "cell_type": "markdown",
   "metadata": {},
   "source": [
    "#    BUILD MODEL"
   ]
  },
  {
   "cell_type": "code",
   "execution_count": 199,
   "metadata": {
    "collapsed": false
   },
   "outputs": [
    {
     "data": {
      "text/plain": [
       "213"
      ]
     },
     "execution_count": 199,
     "metadata": {},
     "output_type": "execute_result"
    }
   ],
   "source": [
    "from sklearn.cross_validation import train_test_split\n",
    "from sklearn.ensemble import RandomForestRegressor\n",
    "len(dummy_categoricals)"
   ]
  },
  {
   "cell_type": "code",
   "execution_count": 205,
   "metadata": {
    "collapsed": true
   },
   "outputs": [],
   "source": [
    " train, test = train_test_split(df, test_size=0.3)\n",
    "    "
   ]
  },
  {
   "cell_type": "code",
   "execution_count": 206,
   "metadata": {
    "collapsed": false
   },
   "outputs": [
    {
     "data": {
      "text/plain": [
       "RandomForestRegressor(bootstrap=True, criterion='mse', max_depth=None,\n",
       "           max_features='auto', max_leaf_nodes=None, min_samples_leaf=1,\n",
       "           min_samples_split=2, min_weight_fraction_leaf=0.0,\n",
       "           n_estimators=100, n_jobs=1, oob_score=True, random_state=None,\n",
       "           verbose=0, warm_start=False)"
      ]
     },
     "execution_count": 206,
     "metadata": {},
     "output_type": "execute_result"
    }
   ],
   "source": [
    "rf = RandomForestRegressor(n_estimators=100, oob_score=True)\n",
    "rf.fit(train[features + dummy_categoricals], train[target])"
   ]
  },
  {
   "cell_type": "code",
   "execution_count": 207,
   "metadata": {
    "collapsed": false
   },
   "outputs": [
    {
     "data": {
      "image/png": "[encoded data removed]",
      "text/plain": [
       "<matplotlib.figure.Figure at 0x106037b50>"
      ]
     },
     "metadata": {},
     "output_type": "display_data"
    }
   ],
   "source": [
    "fig = plt.subplots(figsize=(8,8))\n",
    "sns.regplot(test[target], rf.predict(test[features +dummy_categoricals]))\n",
    "plt.xlim(0,22)\n",
    "plt.ylim(0,22)\n",
    "plt.tight_layout()"
   ]
  },
  {
   "cell_type": "code",
   "execution_count": 208,
   "metadata": {
    "collapsed": false
   },
   "outputs": [],
   "source": [
    "from sklearn.metrics import explained_variance_score, r2_score, mean_squared_error"
   ]
  },
  {
   "cell_type": "code",
   "execution_count": 209,
   "metadata": {
    "collapsed": false
   },
   "outputs": [
    {
     "data": {
      "text/plain": [
       "0.86463045709753295"
      ]
     },
     "execution_count": 209,
     "metadata": {},
     "output_type": "execute_result"
    }
   ],
   "source": [
    "predicted=rf.predict(test[features+dummy_categoricals])\n",
    "r2_score(test[target], predicted)"
   ]
  },
  {
   "cell_type": "code",
   "execution_count": 226,
   "metadata": {
    "collapsed": false
   },
   "outputs": [
    {
     "data": {
      "text/plain": [
       "0.86463883588359802"
      ]
     },
     "execution_count": 226,
     "metadata": {},
     "output_type": "execute_result"
    }
   ],
   "source": [
    "explained_variance_score(test[target], predicted)"
   ]
  },
  {
   "cell_type": "code",
   "execution_count": 227,
   "metadata": {
    "collapsed": false
   },
   "outputs": [
    {
     "data": {
      "text/plain": [
       "0.68132756223987723"
      ]
     },
     "execution_count": 227,
     "metadata": {},
     "output_type": "execute_result"
    }
   ],
   "source": [
    "mean_squared_error(test[target],predicted)"
   ]
  },
  {
   "cell_type": "code",
   "execution_count": 212,
   "metadata": {
    "collapsed": false
   },
   "outputs": [
    {
     "data": {
      "text/html": [
       "<div>\n",
       "<table border=\"1\" class=\"dataframe\">\n",
       "  <thead>\n",
       "    <tr style=\"text-align: right;\">\n",
       "      <th></th>\n",
       "      <th>importance</th>\n",
       "      <th>name</th>\n",
       "    </tr>\n",
       "  </thead>\n",
       "  <tbody>\n",
       "    <tr>\n",
       "      <th>0</th>\n",
       "      <td>0.821828</td>\n",
       "      <td>Labor_Hours</td>\n",
       "    </tr>\n",
       "    <tr>\n",
       "      <th>1</th>\n",
       "      <td>0.084612</td>\n",
       "      <td>Average_Employees</td>\n",
       "    </tr>\n",
       "    <tr>\n",
       "      <th>2</th>\n",
       "      <td>0.007158</td>\n",
       "      <td>Coal_Supply_Region_Powder River Basin</td>\n",
       "    </tr>\n",
       "    <tr>\n",
       "      <th>3</th>\n",
       "      <td>0.007084</td>\n",
       "      <td>Mine_Type_Surface</td>\n",
       "    </tr>\n",
       "    <tr>\n",
       "      <th>4</th>\n",
       "      <td>0.004272</td>\n",
       "      <td>Mine_County_Martin</td>\n",
       "    </tr>\n",
       "    <tr>\n",
       "      <th>5</th>\n",
       "      <td>0.004198</td>\n",
       "      <td>Mine_Status_Active</td>\n",
       "    </tr>\n",
       "    <tr>\n",
       "      <th>6</th>\n",
       "      <td>0.003594</td>\n",
       "      <td>Coal_Supply_Region_Appalachia Central</td>\n",
       "    </tr>\n",
       "    <tr>\n",
       "      <th>7</th>\n",
       "      <td>0.003502</td>\n",
       "      <td>Mine_State_West Virginia (Southern)</td>\n",
       "    </tr>\n",
       "    <tr>\n",
       "      <th>8</th>\n",
       "      <td>0.003038</td>\n",
       "      <td>Mine_County_Boone</td>\n",
       "    </tr>\n",
       "    <tr>\n",
       "      <th>9</th>\n",
       "      <td>0.002881</td>\n",
       "      <td>Coal_Supply_Region_Illinois Basin</td>\n",
       "    </tr>\n",
       "    <tr>\n",
       "      <th>10</th>\n",
       "      <td>0.002704</td>\n",
       "      <td>Company_Type_Independent Producer Operator</td>\n",
       "    </tr>\n",
       "    <tr>\n",
       "      <th>11</th>\n",
       "      <td>0.002586</td>\n",
       "      <td>Mine_County_Campbell</td>\n",
       "    </tr>\n",
       "    <tr>\n",
       "      <th>12</th>\n",
       "      <td>0.002305</td>\n",
       "      <td>Mine_County_Schuylkill</td>\n",
       "    </tr>\n",
       "    <tr>\n",
       "      <th>13</th>\n",
       "      <td>0.002253</td>\n",
       "      <td>Mine_County_Buchanan</td>\n",
       "    </tr>\n",
       "    <tr>\n",
       "      <th>14</th>\n",
       "      <td>0.002202</td>\n",
       "      <td>Coal_Supply_Region_Appalachia Northern</td>\n",
       "    </tr>\n",
       "    <tr>\n",
       "      <th>15</th>\n",
       "      <td>0.002003</td>\n",
       "      <td>Mine_Status_Active, men working, not producing</td>\n",
       "    </tr>\n",
       "    <tr>\n",
       "      <th>16</th>\n",
       "      <td>0.001802</td>\n",
       "      <td>Mine_County_Harlan</td>\n",
       "    </tr>\n",
       "    <tr>\n",
       "      <th>17</th>\n",
       "      <td>0.001695</td>\n",
       "      <td>Mine_State_Kentucky (East)</td>\n",
       "    </tr>\n",
       "    <tr>\n",
       "      <th>18</th>\n",
       "      <td>0.001609</td>\n",
       "      <td>Mine_County_Mingo</td>\n",
       "    </tr>\n",
       "    <tr>\n",
       "      <th>19</th>\n",
       "      <td>0.001408</td>\n",
       "      <td>Mine_State_Pennsylvania (Anthracite)</td>\n",
       "    </tr>\n",
       "  </tbody>\n",
       "</table>\n",
       "</div>"
      ],
      "text/plain": [
       "    importance                                            name\n",
       "0     0.821828                                     Labor_Hours\n",
       "1     0.084612                               Average_Employees\n",
       "2     0.007158           Coal_Supply_Region_Powder River Basin\n",
       "3     0.007084                               Mine_Type_Surface\n",
       "4     0.004272                              Mine_County_Martin\n",
       "5     0.004198                              Mine_Status_Active\n",
       "6     0.003594           Coal_Supply_Region_Appalachia Central\n",
       "7     0.003502             Mine_State_West Virginia (Southern)\n",
       "8     0.003038                               Mine_County_Boone\n",
       "9     0.002881               Coal_Supply_Region_Illinois Basin\n",
       "10    0.002704      Company_Type_Independent Producer Operator\n",
       "11    0.002586                            Mine_County_Campbell\n",
       "12    0.002305                          Mine_County_Schuylkill\n",
       "13    0.002253                            Mine_County_Buchanan\n",
       "14    0.002202          Coal_Supply_Region_Appalachia Northern\n",
       "15    0.002003  Mine_Status_Active, men working, not producing\n",
       "16    0.001802                              Mine_County_Harlan\n",
       "17    0.001695                      Mine_State_Kentucky (East)\n",
       "18    0.001609                               Mine_County_Mingo\n",
       "19    0.001408            Mine_State_Pennsylvania (Anthracite)"
      ]
     },
     "execution_count": 212,
     "metadata": {},
     "output_type": "execute_result"
    }
   ],
   "source": [
    "rf_importance=pd.DataFrame({'name':train[features+dummy_categoricals].columns,\n",
    "                            'importance':rf.feature_importances_\n",
    "                            }).sort_values(by='importance', ascending=False).reset_index(drop=True)\n",
    "rf_importance.head(20)"
   ]
  },
  {
   "cell_type": "code",
   "execution_count": 230,
   "metadata": {
    "collapsed": false
   },
   "outputs": [
    {
     "data": {
      "text/plain": [
       "742"
      ]
     },
     "execution_count": 230,
     "metadata": {},
     "output_type": "execute_result"
    }
   ],
   "source": [
    "## JUS TPOKING AROUND -- delete the rest from here down. \n",
    "\n",
    "type(train)\n",
    "train.head()\n",
    "len(train)"
   ]
  },
  {
   "cell_type": "code",
   "execution_count": 241,
   "metadata": {
    "collapsed": false
   },
   "outputs": [
    {
     "data": {
      "text/plain": [
       "Index([u'Average_Employees', u'Coal_Supply_Region',\n",
       "       u'Coal_Supply_Region_Appalachia Central',\n",
       "       u'Coal_Supply_Region_Appalachia Northern',\n",
       "       u'Coal_Supply_Region_Appalachia Southern',\n",
       "       u'Coal_Supply_Region_Illinois Basin', u'Coal_Supply_Region_Interior',\n",
       "       u'Coal_Supply_Region_Powder River Basin',\n",
       "       u'Coal_Supply_Region_Uinta Region', u'Coal_Supply_Region_Western',\n",
       "       ...\n",
       "       u'Union_Code', u'Union_Code_ ', u'Union_Code_INTE',\n",
       "       u'Union_Code_International Union of Operation Engineers',\n",
       "       u'Union_Code_Scotia Employees Association', u'Union_Code_UNIT',\n",
       "       u'Union_Code_United Mine Workers of America',\n",
       "       u'Union_Code_Western Energy Workers', u'Year', u'log_production'],\n",
       "      dtype='object', length=237)"
      ]
     },
     "execution_count": 241,
     "metadata": {},
     "output_type": "execute_result"
    }
   ],
   "source": [
    "train.columns.sort_values()"
   ]
  },
  {
   "cell_type": "code",
   "execution_count": 240,
   "metadata": {
    "collapsed": false
   },
   "outputs": [
    {
     "name": "stdout",
     "output_type": "stream",
     "text": [
      "Index([u'Average_Employees', u'Coal_Supply_Region_Appalachia Central',\n",
      "       u'Coal_Supply_Region_Appalachia Northern',\n",
      "       u'Coal_Supply_Region_Appalachia Southern',\n",
      "       u'Coal_Supply_Region_Illinois Basin', u'Coal_Supply_Region_Interior',\n",
      "       u'Coal_Supply_Region_Powder River Basin',\n",
      "       u'Coal_Supply_Region_Uinta Region', u'Company_Type_Contractor',\n",
      "       u'Company_Type_Independent Producer Operator',\n",
      "       ...\n",
      "       u'Mine_Status_Permanently abandoned', u'Mine_Type_Refuse',\n",
      "       u'Mine_Type_Surface', u'Operation_Type_Mine and Preparation Plant',\n",
      "       u'Union_Code_ ', u'Union_Code_INTE',\n",
      "       u'Union_Code_International Union of Operation Engineers',\n",
      "       u'Union_Code_Scotia Employees Association', u'Union_Code_UNIT',\n",
      "       u'Union_Code_United Mine Workers of America'],\n",
      "      dtype='object', length=215)\n"
     ]
    }
   ],
   "source": [
    "print train[features+dummy_categoricals].columns.sort_values()"
   ]
  },
  {
   "cell_type": "code",
   "execution_count": null,
   "metadata": {
    "collapsed": true
   },
   "outputs": [],
   "source": []
  }
 ],
 "metadata": {
  "kernelspec": {
   "display_name": "Python 2",
   "language": "python",
   "name": "python2"
  },
  "language_info": {
   "codemirror_mode": {
    "name": "ipython",
    "version": 2
   },
   "file_extension": ".py",
   "mimetype": "text/x-python",
   "name": "python",
   "nbconvert_exporter": "python",
   "pygments_lexer": "ipython2",
   "version": "2.7.11"
  }
 },
 "nbformat": 4,
 "nbformat_minor": 0
}
